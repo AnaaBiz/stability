{
  "nbformat": 4,
  "nbformat_minor": 0,
  "metadata": {
    "colab": {
      "provenance": [],
      "authorship_tag": "ABX9TyMvE075Ub3hFO7Q6Zi4b80z",
      "include_colab_link": true
    },
    "kernelspec": {
      "name": "python3",
      "display_name": "Python 3"
    },
    "language_info": {
      "name": "python"
    }
  },
  "cells": [
    {
      "cell_type": "markdown",
      "metadata": {
        "id": "view-in-github",
        "colab_type": "text"
      },
      "source": [
        "<a href=\"https://colab.research.google.com/github/AnaaBiz/stability/blob/main/Stability_Studies.ipynb\" target=\"_parent\"><img src=\"https://colab.research.google.com/assets/colab-badge.svg\" alt=\"Open In Colab\"/></a>"
      ]
    },
    {
      "cell_type": "code",
      "execution_count": 8,
      "metadata": {
        "colab": {
          "base_uri": "https://localhost:8080/"
        },
        "id": "HzmPOq_-0PYZ",
        "outputId": "7490ade4-e5f6-44de-f24e-ba2199b5eb2b"
      },
      "outputs": [
        {
          "output_type": "stream",
          "name": "stdout",
          "text": [
            "Requirement already satisfied: pandas in /usr/local/lib/python3.11/dist-packages (2.2.2)\n",
            "Requirement already satisfied: scikit-learn in /usr/local/lib/python3.11/dist-packages (1.6.1)\n",
            "Requirement already satisfied: numpy>=1.23.2 in /usr/local/lib/python3.11/dist-packages (from pandas) (2.0.2)\n",
            "Requirement already satisfied: python-dateutil>=2.8.2 in /usr/local/lib/python3.11/dist-packages (from pandas) (2.9.0.post0)\n",
            "Requirement already satisfied: pytz>=2020.1 in /usr/local/lib/python3.11/dist-packages (from pandas) (2025.2)\n",
            "Requirement already satisfied: tzdata>=2022.7 in /usr/local/lib/python3.11/dist-packages (from pandas) (2025.2)\n",
            "Requirement already satisfied: scipy>=1.6.0 in /usr/local/lib/python3.11/dist-packages (from scikit-learn) (1.15.2)\n",
            "Requirement already satisfied: joblib>=1.2.0 in /usr/local/lib/python3.11/dist-packages (from scikit-learn) (1.4.2)\n",
            "Requirement already satisfied: threadpoolctl>=3.1.0 in /usr/local/lib/python3.11/dist-packages (from scikit-learn) (3.6.0)\n",
            "Requirement already satisfied: six>=1.5 in /usr/local/lib/python3.11/dist-packages (from python-dateutil>=2.8.2->pandas) (1.17.0)\n",
            "Mean Squared Error: 0.00\n",
            "Predicted vitamin C after 12 months: 30.00 mg\n"
          ]
        }
      ],
      "source": [
        "!pip install pandas scikit-learn\n",
        "\n",
        "import pandas as pd\n",
        "from sklearn.ensemble import RandomForestRegressor\n",
        "from sklearn.model_selection import train_test_split\n",
        "from sklearn.preprocessing import OneHotEncoder\n",
        "from sklearn.metrics import mean_squared_error\n",
        "\n",
        "# Step 1: Create fake data\n",
        "data = pd.DataFrame({\n",
        "    'product_form': ['powder', 'liquid', 'liquid', 'powder', 'powder', 'liquid'] * 20,\n",
        "    'packaging': ['PET', 'Glass', 'TetraPak', 'Glass', 'PET', 'TetraPak'] * 20,\n",
        "    'vitamin_c_T0': [40, 35, 30, 50, 45, 32] * 20,\n",
        "    'vitamin_c_T12': [30, 20, 15, 42, 38, 18] * 20\n",
        "})\n",
        "\n",
        "# Step 2: Encode categorical variables (product_form and packaging)\n",
        "encoder = OneHotEncoder(sparse_output=False, handle_unknown='ignore') # sparse=False is deprecated\n",
        "encoded = encoder.fit_transform(data[['product_form', 'packaging']])\n",
        "encoded_df = pd.DataFrame(encoded, columns=encoder.get_feature_names_out(['product_form', 'packaging'])) # added column names\n",
        "\n",
        "# Combine with numerical data\n",
        "X = pd.concat([encoded_df, data[['vitamin_c_T0']]], axis=1)\n",
        "y = data['vitamin_c_T12']\n",
        "\n",
        "# Step 3: Split data to train and test\n",
        "X_train, X_test, y_train, y_test = train_test_split(X, y, test_size=0.2, random_state=42)\n",
        "\n",
        "# Step 4: Train the robot (Random Forest)\n",
        "model = RandomForestRegressor()\n",
        "model.fit(X_train, y_train)\n",
        "\n",
        "# Step 5: Test the robot\n",
        "predictions = model.predict(X_test)\n",
        "mse = mean_squared_error(y_test, predictions)\n",
        "print(f\"Mean Squared Error: {mse:.2f}\")\n",
        "\n",
        "# Step 6: Try a new product!\n",
        "new_product = pd.DataFrame({\n",
        "    'product_form': ['powder'],\n",
        "    'packaging': ['PET'],\n",
        "    'vitamin_c_T0': [40]\n",
        "})\n",
        "\n",
        "# Encode new product\n",
        "new_encoded = encoder.transform(new_product[['product_form', 'packaging']])\n",
        "new_X = pd.concat([pd.DataFrame(new_encoded, columns=encoder.get_feature_names_out(['product_form', 'packaging'])), # added column names\n",
        "                   new_product[['vitamin_c_T0']]], axis=1)\n",
        "\n",
        "# Predict final vitamin C\n",
        "predicted_c = model.predict(new_X)\n",
        "print(f\"Predicted vitamin C after 12 months: {predicted_c[0]:.2f} mg\")\n"
      ]
    }
  ]
}